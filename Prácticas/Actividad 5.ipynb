{
 "cells": [
  {
   "cell_type": "markdown",
   "metadata": {},
   "source": [
    "# Práctica #5"
   ]
  },
  {
   "cell_type": "code",
   "execution_count": 6,
   "metadata": {},
   "outputs": [
    {
     "name": "stdout",
     "output_type": "stream",
     "text": [
      "Hay diferencias en las varianzas\n",
      "                  sum_sq     df          F        PR(>F)\n",
      "Continent  671979.785603    5.0  94.501632  1.334142e-47\n",
      "Residual   246032.795402  173.0        NaN           NaN\n"
     ]
    },
    {
     "name": "stderr",
     "output_type": "stream",
     "text": [
      "C:\\Users\\Administrator\\AppData\\Local\\Temp\\ipykernel_3868\\2614761090.py:13: FutureWarning: Series.__getitem__ treating keys as positions is deprecated. In a future version, integer keys will always be treated as labels (consistent with DataFrame behavior). To access a value by position, use `ser.iloc[pos]`\n",
      "  if anova_df[\"PR(>F)\"][0] < 0.005:\n"
     ]
    }
   ],
   "source": [
    "import pandas as pd\n",
    "import statsmodels.api as sm\n",
    "from statsmodels.formula.api import ols\n",
    "\n",
    "df = pd.read_csv('../Analysis/team_stats_by_year.csv')\n",
    "df['Year'] = pd.to_datetime(df['Year'], format='%Y')\n",
    "\n",
    "df_by_continent = df.groupby(['Continent', 'Year'])['Wins'].sum().reset_index()\n",
    "df_by_continent.reset_index(inplace=True)\n",
    "df_aux = df_by_continent.drop(['Year'], axis = 1)\n",
    "modl = ols(\"Wins ~ Continent\", data=df_aux).fit()\n",
    "anova_df = sm.stats.anova_lm(modl, typ=2)\n",
    "if anova_df[\"PR(>F)\"][0] < 0.005:\n",
    "    print(\"Hay diferencias en las varianzas\")\n",
    "    print(anova_df)\n",
    "else:\n",
    "    print(\"No hay diferencias en las varianzas\")"
   ]
  }
 ],
 "metadata": {
  "kernelspec": {
   "display_name": "Python 3.11.5 64-bit",
   "language": "python",
   "name": "python3"
  },
  "language_info": {
   "codemirror_mode": {
    "name": "ipython",
    "version": 3
   },
   "file_extension": ".py",
   "mimetype": "text/x-python",
   "name": "python",
   "nbconvert_exporter": "python",
   "pygments_lexer": "ipython3",
   "version": "3.11.5"
  },
  "orig_nbformat": 4,
  "vscode": {
   "interpreter": {
    "hash": "ff4b1fca65a764b45acb559e482afe389d289dd599b9f8c5fd12ff5c2ea46a65"
   }
  }
 },
 "nbformat": 4,
 "nbformat_minor": 2
}
